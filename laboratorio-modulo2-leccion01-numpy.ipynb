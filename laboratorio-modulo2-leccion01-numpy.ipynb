{
 "cells": [
  {
   "cell_type": "markdown",
   "id": "6db588db",
   "metadata": {},
   "source": [
    "<div style=\"text-align: center;\">\n",
    "  <img src=\"https://github.com/Hack-io-Data/Imagenes/blob/main/01-LogosHackio/logo_naranja@4x.png?raw=true\" alt=\"esquema\" />\n",
    "</div>"
   ]
  },
  {
   "cell_type": "code",
   "execution_count": 71,
   "id": "11d3f85f",
   "metadata": {},
   "outputs": [],
   "source": [
    "import os"
   ]
  },
  {
   "cell_type": "code",
   "execution_count": 72,
   "id": "64ff9293",
   "metadata": {},
   "outputs": [
    {
     "data": {
      "text/plain": [
       "['.git', 'laboratorio-modulo2-leccion01-numpy.ipynb', 'README.md']"
      ]
     },
     "execution_count": 72,
     "metadata": {},
     "output_type": "execute_result"
    }
   ],
   "source": [
    "datos = os.listdir()\n",
    "datos"
   ]
  },
  {
   "cell_type": "code",
   "execution_count": 73,
   "id": "74e36252",
   "metadata": {},
   "outputs": [
    {
     "ename": "NameError",
     "evalue": "name 'diccioanrio_df' is not defined",
     "output_type": "error",
     "traceback": [
      "\u001b[1;31m---------------------------------------------------------------------------\u001b[0m",
      "\u001b[1;31mNameError\u001b[0m                                 Traceback (most recent call last)",
      "Cell \u001b[1;32mIn[73], line 1\u001b[0m\n\u001b[1;32m----> 1\u001b[0m diccioanrio_df \u001b[38;5;241m=\u001b[39m \u001b[43m{\u001b[49m\u001b[43mdiccioanrio_df\u001b[49m\u001b[43m[\u001b[49m\u001b[43mre\u001b[49m\u001b[38;5;241;43m.\u001b[39;49m\u001b[43mfindall\u001b[49m\u001b[43m(\u001b[49m\u001b[38;5;124;43m\"\u001b[39;49m\u001b[38;5;124;43m\\\u001b[39;49m\u001b[38;5;124;43md\u001b[39;49m\u001b[38;5;132;43;01m{4}\u001b[39;49;00m\u001b[38;5;124;43m\"\u001b[39;49m\u001b[43m,\u001b[49m\u001b[43m \u001b[49m\u001b[43mi\u001b[49m\u001b[43m)\u001b[49m\u001b[43m[\u001b[49m\u001b[38;5;241;43m0\u001b[39;49m\u001b[43m]\u001b[49m\u001b[43m]\u001b[49m\u001b[43m \u001b[49m\u001b[43m:\u001b[49m\u001b[43m \u001b[49m\u001b[43mpd\u001b[49m\u001b[38;5;241;43m.\u001b[39;49m\u001b[43mread_csv\u001b[49m\u001b[43m(\u001b[49m\u001b[38;5;124;43mf\u001b[39;49m\u001b[38;5;124;43m\"\u001b[39;49m\u001b[38;5;124;43m..dato/\u001b[39;49m\u001b[38;5;132;43;01m{\u001b[39;49;00m\u001b[43mi\u001b[49m\u001b[38;5;132;43;01m}\u001b[39;49;00m\u001b[38;5;124;43m\"\u001b[39;49m\u001b[43m)\u001b[49m\u001b[43m \u001b[49m\u001b[38;5;28;43;01mfor\u001b[39;49;00m\u001b[43m \u001b[49m\u001b[43mi\u001b[49m\u001b[43m \u001b[49m\u001b[38;5;129;43;01min\u001b[39;49;00m\u001b[43m \u001b[49m\u001b[43mdatos\u001b[49m\u001b[43m}\u001b[49m\n\u001b[0;32m      3\u001b[0m diccioanrio_df \u001b[38;5;241m=\u001b[39m {}\n\u001b[0;32m      4\u001b[0m \u001b[38;5;28;01mfor\u001b[39;00m i \u001b[38;5;129;01min\u001b[39;00m datos:\n",
      "Cell \u001b[1;32mIn[73], line 1\u001b[0m, in \u001b[0;36m<dictcomp>\u001b[1;34m(.0)\u001b[0m\n\u001b[1;32m----> 1\u001b[0m diccioanrio_df \u001b[38;5;241m=\u001b[39m {\u001b[43mdiccioanrio_df\u001b[49m[re\u001b[38;5;241m.\u001b[39mfindall(\u001b[38;5;124m\"\u001b[39m\u001b[38;5;124m\\\u001b[39m\u001b[38;5;124md\u001b[39m\u001b[38;5;132;01m{4}\u001b[39;00m\u001b[38;5;124m\"\u001b[39m, i)[\u001b[38;5;241m0\u001b[39m]] : pd\u001b[38;5;241m.\u001b[39mread_csv(\u001b[38;5;124mf\u001b[39m\u001b[38;5;124m\"\u001b[39m\u001b[38;5;124m..dato/\u001b[39m\u001b[38;5;132;01m{\u001b[39;00mi\u001b[38;5;132;01m}\u001b[39;00m\u001b[38;5;124m\"\u001b[39m) \u001b[38;5;28;01mfor\u001b[39;00m i \u001b[38;5;129;01min\u001b[39;00m datos}\n\u001b[0;32m      3\u001b[0m diccioanrio_df \u001b[38;5;241m=\u001b[39m {}\n\u001b[0;32m      4\u001b[0m \u001b[38;5;28;01mfor\u001b[39;00m i \u001b[38;5;129;01min\u001b[39;00m datos:\n",
      "\u001b[1;31mNameError\u001b[0m: name 'diccioanrio_df' is not defined"
     ]
    }
   ],
   "source": [
    "diccioanrio_df = {diccioanrio_df[re.findall(\"\\d{4}\", i)[0]] : pd.read_csv(f\"..dato/{i}\") for i in datos}\n",
    "\n",
    "diccioanrio_df = {}\n",
    "for i in datos:\n",
    "    df = pd.read_csv(i)\n",
    "    diccioanrio_df[i.spl]\n"
   ]
  },
  {
   "cell_type": "markdown",
   "id": "11308d6c",
   "metadata": {},
   "source": [
    "for i in datos\n",
    "# Laboratorio de NumPy"
   ]
  },
  {
   "cell_type": "code",
   "execution_count": null,
   "id": "617b7117",
   "metadata": {},
   "outputs": [],
   "source": [
    "import numpy as np "
   ]
  },
  {
   "cell_type": "markdown",
   "id": "a19d4596",
   "metadata": {},
   "source": [
    "#### Ejercicio 1 - Crea un array de 1D con los números del 0 al 9."
   ]
  },
  {
   "cell_type": "code",
   "execution_count": null,
   "id": "9d4e1d42",
   "metadata": {},
   "outputs": [
    {
     "name": "stdout",
     "output_type": "stream",
     "text": [
      "La lista a partir de la que crearemos un array unidimensional es: [1, 2, 3, 4, 5, 6, 7, 8, 9]\n",
      "El array unidimensional creado a partir de la lista es: \n",
      "  [1 2 3 4 5 6 7 8 9] \n",
      "\n"
     ]
    }
   ],
   "source": [
    "\n",
    "# definimos una lista que usaremos para convertir en array unidimensional\n",
    "lista = [1, 2, 3, 4, 5, 6, 7, 8, 9]\n",
    "print(\"La lista a partir de la que crearemos un array unidimensional es:\", lista)\n",
    "\n",
    "# convertimos la lista en array usando el método 'np.array()' \n",
    "array_unidimensional = np.array(lista)\n",
    "print(f\"El array unidimensional creado a partir de la lista es: \\n  {array_unidimensional} \\n\")"
   ]
  },
  {
   "cell_type": "markdown",
   "id": "f4a41f16",
   "metadata": {},
   "source": [
    "#### Ejercicio 2 - Convierte un array 1D en un array 2D con 2 filas y 5 columnas."
   ]
  },
  {
   "cell_type": "code",
   "execution_count": null,
   "id": "3d7cef3c",
   "metadata": {},
   "outputs": [
    {
     "name": "stdout",
     "output_type": "stream",
     "text": [
      "[[ 1  2  3  4  5]\n",
      " [ 6  7  8  9 10]]\n"
     ]
    }
   ],
   "source": [
    "# Creo un array unimensional\n",
    "array_unidimensional = np.array([1, 2, 3, 4, 5, 6, 7, 8, 9,10])\n",
    "\n",
    "# Convierto a un array de 2 dimensiones con 2 filas y 5 columnas:\n",
    "array_bidimensional = array_unidimensional.reshape(2, 5)\n",
    "\n",
    "print(array_bidimensional)\n"
   ]
  },
  {
   "cell_type": "markdown",
   "id": "86bb8999",
   "metadata": {},
   "source": [
    "#### Ejercicio 3 - Encuentra los índices de los elementos con valor distinto de 0 en el siguiente array: [0, 2, 0, 3, 0, 4, 0]."
   ]
  },
  {
   "cell_type": "code",
   "execution_count": null,
   "id": "d1fcfca4",
   "metadata": {},
   "outputs": [
    {
     "name": "stdout",
     "output_type": "stream",
     "text": [
      "[ 0 25  0 44  0  3  0]\n",
      "(array([1, 3, 5]),)\n"
     ]
    }
   ],
   "source": [
    "# Sobre el array dado hago un np.where para encontrar valores distintos a 0.\n",
    "array_elementos = np.array([0, 25, 0, 44, 0, 3, 0])\n",
    "print(array_elementos)\n",
    "elementos_distintos_zero = np.where(array_elementos != 0)\n",
    "print(elementos_distintos_zero)\n"
   ]
  },
  {
   "cell_type": "markdown",
   "id": "1c548419",
   "metadata": {},
   "source": [
    "#### Ejercicio 4 - Crea un array 3x3 con valores aleatorios entre 0 y 1."
   ]
  },
  {
   "cell_type": "code",
   "execution_count": null,
   "id": "e1d4f19f",
   "metadata": {},
   "outputs": [
    {
     "name": "stdout",
     "output_type": "stream",
     "text": [
      "[[0.93805186 0.47939196 0.67294039]\n",
      " [0.87832642 0.57000866 0.88598637]\n",
      " [0.16917751 0.42097143 0.85402987]]\n"
     ]
    }
   ],
   "source": [
    "array_3x3 = np.random.rand(3,3)\n",
    "print(array_3x3)\n"
   ]
  },
  {
   "cell_type": "markdown",
   "id": "aee82811",
   "metadata": {},
   "source": [
    "#### Ejercicio 5 - Crea un array de 10 números aleatorios y encuentra el valor máximo y mínimo."
   ]
  },
  {
   "cell_type": "code",
   "execution_count": null,
   "id": "81fea76e",
   "metadata": {},
   "outputs": [
    {
     "name": "stdout",
     "output_type": "stream",
     "text": [
      "Array Aleatorio: [128  21   5  29 117 101 124 109  97  67]\n",
      "Valor Máximo del array: 128\n",
      "Valor Mínimo del array: 5\n"
     ]
    }
   ],
   "source": [
    "# Creo el array aleatorio con random randint.\n",
    "array_aleatorio = np.random.randint(0, 150, size=10)\n",
    "\n",
    "# Encontrar el valor máximo y mínimo\n",
    "valor_maximo = np.max(array_aleatorio)\n",
    "valor_minimo = np.min(array_aleatorio)\n",
    "\n",
    "print(f\"Array Aleatorio:\", array_aleatorio)\n",
    "print(f\"Valor Máximo del array:\", valor_maximo)\n",
    "print(f\"Valor Mínimo del array:\", valor_minimo)\n"
   ]
  },
  {
   "cell_type": "markdown",
   "id": "6559375b",
   "metadata": {},
   "source": [
    "#### Ejercicio 6 - Crea un array de una dimensión e inviértelo. "
   ]
  },
  {
   "cell_type": "code",
   "execution_count": null,
   "id": "31385db0",
   "metadata": {},
   "outputs": [
    {
     "name": "stdout",
     "output_type": "stream",
     "text": [
      "[ 1  2  3  4  5  6  7  8  9 10]\n",
      "[10  9  8  7  6  5  4  3  2  1]\n"
     ]
    }
   ],
   "source": [
    "array_unidimensional\n",
    "print(array_unidimensional)\n",
    "array_ivertido = np.flip(array_unidimensional)\n",
    "print(array_ivertido)"
   ]
  },
  {
   "cell_type": "markdown",
   "id": "4457f046",
   "metadata": {},
   "source": [
    "\n",
    "#### Ejercicio 6 - Genera un array tridimensional de dimensiones (2, 3, 4) con valores enteros del 1 al 24.\n",
    "\n",
    "- Selecciona el primer `15` del array.\n",
    "\n",
    "- Selecciona todos los elementos del primer array. \n",
    "\n",
    "- Selecciona la última fila del último array\n"
   ]
  },
  {
   "cell_type": "code",
   "execution_count": null,
   "id": "3cab04c9",
   "metadata": {},
   "outputs": [
    {
     "name": "stdout",
     "output_type": "stream",
     "text": [
      "[[[15 20 21 10]\n",
      "  [ 3  5 10 11]\n",
      "  [ 8 20  1 14]]\n",
      "\n",
      " [[12 10  0 12]\n",
      "  [16 24  5  7]\n",
      "  [ 6 22  7 15]]]\n"
     ]
    }
   ],
   "source": [
    "# Genero con random randint el array, dandole los parametros pedidos y eligiendo matriz, filas y columnas y lo printeo\n",
    "array_tridimensional = np.random.randint(0,25,(2,3,4))\n",
    "print(array_tridimensional)"
   ]
  },
  {
   "cell_type": "code",
   "execution_count": null,
   "id": "dbada3c9",
   "metadata": {},
   "outputs": [
    {
     "name": "stdout",
     "output_type": "stream",
     "text": [
      "[[15 20 21 10]\n",
      " [ 3  5 10 11]\n",
      " [ 8 20  1 14]]\n",
      "accedemos al primer 15:14\n",
      "me pides que selecciones todo el array :\n",
      " [[[15 20 21 10]\n",
      "  [ 3  5 10 11]\n",
      "  [ 8 20  1 14]]\n",
      "\n",
      " [[12 10  0 12]\n",
      "  [16 24  5  7]\n",
      "  [ 6 22  7 15]]]\n",
      "accedemos a la ultima fila [ 6 22  7 15]\n"
     ]
    }
   ],
   "source": [
    "# Printeo primero la pirmera matriz\n",
    "print(array_tridimensional[0])\n",
    "# Printeo la primera matriz, fila 3 y columna 4 que es donde esta el primer 15\n",
    "print(f\"accedemos al primer 15:{array_tridimensional[0,2,3]}\")\n",
    "# Printeo todo el array\n",
    "print(f\"me pides que selecciones todo el array :\\n {array_tridimensional}\")\n",
    "# Selecciono la ultima fila del ultimo array\n",
    "print(f\"accedemos a la ultima fila {array_tridimensional[1,2]}\")\n",
    "\n"
   ]
  },
  {
   "cell_type": "markdown",
   "id": "681b7e4e",
   "metadata": {},
   "source": [
    "\n",
    "#### Ejercicio 7 - Genera un array tridimensional de dimensiones (3, 2, 5) con valores enteros del 1 al 30.\n",
    "\n",
    "- Selecciona el subarray que contiene los dos primeros elementos de cada fila del primer array.\n",
    "\n",
    "- Selecciona el subarray que contiene todas las filas de los dos últimos arrays.\n"
   ]
  },
  {
   "cell_type": "code",
   "execution_count": null,
   "id": "b008a9aa",
   "metadata": {},
   "outputs": [
    {
     "name": "stdout",
     "output_type": "stream",
     "text": [
      "[[[26 20 22  6  1]\n",
      "  [ 9 24  3  8  8]]\n",
      "\n",
      " [[ 8  3 12 27 15]\n",
      "  [11 16  9  5  5]]\n",
      "\n",
      " [[21  8 14 17 27]\n",
      "  [10  6 20 14  8]]]\n"
     ]
    }
   ],
   "source": [
    "# Genero el array como me piden de 3 matrizes , 2 filas y 5 columnnas y que sus numeros sean del 1 al 30\n",
    "array_tridimensional_1 = np.random.randint(0,31,(3,2,5))\n",
    "print(array_tridimensional_1)"
   ]
  },
  {
   "cell_type": "code",
   "execution_count": null,
   "id": "358ed426",
   "metadata": {},
   "outputs": [
    {
     "name": "stdout",
     "output_type": "stream",
     "text": [
      "Printeo los 2 primeros elementos de la primera matriz:\n",
      " [[26 20]\n",
      " [ 9 24]]\n"
     ]
    }
   ],
   "source": [
    "# Me pide que imprima los dos primeros elementos de cada fila de la primera matriz.\n",
    "print(f\"Printeo los 2 primeros elementos de la primera matriz:\\n {array_tridimensional_1[0,:,:2]}\")"
   ]
  },
  {
   "cell_type": "code",
   "execution_count": null,
   "id": "574ac051",
   "metadata": {},
   "outputs": [
    {
     "name": "stdout",
     "output_type": "stream",
     "text": [
      "[[11 16  9  5  5]\n",
      " [10  6 20 14  8]]\n"
     ]
    }
   ],
   "source": [
    "# Selecciono la ultima filas de las 2 ultimas matrices \n",
    "print(array_tridimensional_1[1:,-1,:])"
   ]
  },
  {
   "cell_type": "markdown",
   "id": "4fabd9d0",
   "metadata": {},
   "source": [
    "#### Ejercicio 8 - Genera un array tridimensional de dimensiones (4, 3, 2) con valores enteros del 1 al 24.\n",
    "\n",
    "- Cambia todos los elementos de la segunda fila del segundo array por `0`.\n",
    "\n",
    "- Cambia todos los valores del último array a `-1`.\n"
   ]
  },
  {
   "cell_type": "code",
   "execution_count": null,
   "id": "0ef45b69",
   "metadata": {},
   "outputs": [
    {
     "name": "stdout",
     "output_type": "stream",
     "text": [
      "[[[ 1 16]\n",
      "  [17 19]\n",
      "  [10  0]]\n",
      "\n",
      " [[12  4]\n",
      "  [ 1 14]\n",
      "  [14 10]]\n",
      "\n",
      " [[ 1 16]\n",
      "  [16 17]\n",
      "  [17 23]]\n",
      "\n",
      " [[19  1]\n",
      "  [17 12]\n",
      "  [20 22]]]\n"
     ]
    }
   ],
   "source": [
    "# Genero el array como me piden de 4 matrizes , 3 filas y 2 columnnas y que sus numeros sean del 1 al 24\n",
    "array_tridimensional_2 = np.random.randint(0,24,(4,3,2))\n",
    "print(array_tridimensional_2)"
   ]
  },
  {
   "cell_type": "code",
   "execution_count": null,
   "id": "1dca8f0e",
   "metadata": {},
   "outputs": [
    {
     "name": "stdout",
     "output_type": "stream",
     "text": [
      "[[[ 1 16]\n",
      "  [17 19]\n",
      "  [10  0]]\n",
      "\n",
      " [[12  4]\n",
      "  [ 0  0]\n",
      "  [14 10]]\n",
      "\n",
      " [[ 1 16]\n",
      "  [16 17]\n",
      "  [17 23]]\n",
      "\n",
      " [[19  1]\n",
      "  [17 12]\n",
      "  [20 22]]]\n"
     ]
    }
   ],
   "source": [
    "# Cambio los elemendtos de la segunda fila del segundo array por 0.\n",
    "array_tridimensional_2[1, 1, :] = 0\n",
    "print(array_tridimensional_2)\n"
   ]
  },
  {
   "cell_type": "code",
   "execution_count": null,
   "id": "d6eb8359",
   "metadata": {},
   "outputs": [
    {
     "name": "stdout",
     "output_type": "stream",
     "text": [
      "[[[ 1 16]\n",
      "  [17 19]\n",
      "  [10  0]]\n",
      "\n",
      " [[12  4]\n",
      "  [ 0  0]\n",
      "  [14 10]]\n",
      "\n",
      " [[ 1 16]\n",
      "  [16 17]\n",
      "  [17 23]]\n",
      "\n",
      " [[-1 -1]\n",
      "  [-1 -1]\n",
      "  [-1 -1]]]\n"
     ]
    }
   ],
   "source": [
    "# Cambio todos los elementos del ultimo array a -1.\n",
    "array_tridimensional_2[3,:,:] = -1\n",
    "print(array_tridimensional_2)"
   ]
  },
  {
   "cell_type": "markdown",
   "id": "c60bc3bb",
   "metadata": {},
   "source": [
    "\n",
    "#### Ejercicio 9 - Genera un array tridimensional de dimensiones (2, 4, 3) con valores enteros del -10 al 13.\n",
    "\n",
    "- Selecciona todos los elementos mayores a `5`.\n",
    "\n",
    "- Reemplaza todos los elementos negativos por `0`.\n"
   ]
  },
  {
   "cell_type": "code",
   "execution_count": null,
   "id": "28bf9232",
   "metadata": {},
   "outputs": [
    {
     "name": "stdout",
     "output_type": "stream",
     "text": [
      "[[[ -8  -3  13]\n",
      "  [ -1  -6   7]\n",
      "  [ -2  -5   1]\n",
      "  [ -4  -9  -9]]\n",
      "\n",
      " [[  8 -10   4]\n",
      "  [ -3  -3   1]\n",
      "  [ -8   6  -9]\n",
      "  [ 13   0  12]]]\n"
     ]
    }
   ],
   "source": [
    "# Genero el array como me piden de 2 matrizes , 4 filas y 3 columnnas y que sus numeros sean del 1 al 24\n",
    "array_tridimensional_3 = np.random.randint(-10,14,(2,4,3))\n",
    "print(array_tridimensional_3)"
   ]
  },
  {
   "cell_type": "code",
   "execution_count": null,
   "id": "996188be",
   "metadata": {},
   "outputs": [
    {
     "name": "stdout",
     "output_type": "stream",
     "text": [
      "[13  7  8  6 13 12]\n"
     ]
    }
   ],
   "source": [
    "# Selecciono los valores mayores a 5.\n",
    "elementos_mayores_5 = array_tridimensional_3[array_tridimensional_3 >5]\n",
    "print(elementos_mayores_5)"
   ]
  },
  {
   "cell_type": "code",
   "execution_count": null,
   "id": "2610c17d",
   "metadata": {},
   "outputs": [
    {
     "name": "stdout",
     "output_type": "stream",
     "text": [
      "[[[ 0  0 13]\n",
      "  [ 0  0  7]\n",
      "  [ 0  0  1]\n",
      "  [ 0  0  0]]\n",
      "\n",
      " [[ 8  0  4]\n",
      "  [ 0  0  1]\n",
      "  [ 0  6  0]\n",
      "  [13  0 12]]]\n"
     ]
    }
   ],
   "source": [
    "# Ahora cambio los datos negativos en 0\n",
    "array_tridimensional_3[array_tridimensional_3<0]=0\n",
    "print(array_tridimensional_3)"
   ]
  },
  {
   "cell_type": "markdown",
   "id": "ab38a3be",
   "metadata": {},
   "source": [
    "#### Ejercicio 10 - Genera un array tridimensional de dimensiones (3, 3, 3) con valores enteros del 1 al 27.\n",
    "\n",
    "- Selecciona el subarray del segundo array que contenga solo las dos primeras columnas.\n",
    "\n",
    "- Selecciona todos los elementos del tercer array que sean mayores que `20`.\n"
   ]
  },
  {
   "cell_type": "code",
   "execution_count": null,
   "id": "78c979cf",
   "metadata": {},
   "outputs": [
    {
     "name": "stdout",
     "output_type": "stream",
     "text": [
      "[[[25  4 15]\n",
      "  [15 10 20]\n",
      "  [17 19  5]]\n",
      "\n",
      " [[24 20 15]\n",
      "  [25 12 17]\n",
      "  [15 24 18]]\n",
      "\n",
      " [[26 26  7]\n",
      "  [ 6  6 22]\n",
      "  [11 19 13]]]\n"
     ]
    }
   ],
   "source": [
    "# Genero el array como me piden de 3 matrizes , 3 filas y 3 columnnas y que sus numeros sean del 1 al 27\n",
    "array_tridimensional_4 = np.random.randint(1,28,(3,3,3))\n",
    "print(array_tridimensional_4)"
   ]
  },
  {
   "cell_type": "code",
   "execution_count": null,
   "id": "2cbf3d22",
   "metadata": {},
   "outputs": [
    {
     "name": "stdout",
     "output_type": "stream",
     "text": [
      "[[24 20]\n",
      " [25 12]\n",
      " [15 24]]\n"
     ]
    }
   ],
   "source": [
    "# Selecciono el segundo array que contenga los 2 primeras columnas.\n",
    "print(array_tridimensional_4[1,:,:2])"
   ]
  },
  {
   "cell_type": "code",
   "execution_count": null,
   "id": "76135572",
   "metadata": {},
   "outputs": [
    {
     "name": "stdout",
     "output_type": "stream",
     "text": [
      "[26 26 22]\n"
     ]
    }
   ],
   "source": [
    "# Selleciono todos los elementos del tercer array que sean mayores que 20.\n",
    "print(array_tridimensional_4[2,array_tridimensional_4[2]>20])"
   ]
  },
  {
   "cell_type": "markdown",
   "id": "f1a00156",
   "metadata": {},
   "source": [
    "#### Ejercicio 11 - Crea un array de 10 números aleatorios y reemplaza los valores máximos y mínimos por 0."
   ]
  },
  {
   "cell_type": "code",
   "execution_count": null,
   "id": "990fa526",
   "metadata": {},
   "outputs": [
    {
     "name": "stdout",
     "output_type": "stream",
     "text": [
      "[10  7 23 33 12 40 15 38 28 44]\n",
      "el valor minimo es: 7\n",
      "El valor maximo del array es: 44\n",
      "[10  0 23 33 12 40 15 38 28  0]\n"
     ]
    }
   ],
   "source": [
    "# Creo un array unidimensional de 10 numeros aleatorios localizo cual es el min y el max del array.\n",
    "array_uni= np.random.randint(1,50,(10))\n",
    "print(array_uni)\n",
    "minimo = np.min(array_uni) \n",
    "maximo = np.max(array_uni)\n",
    "print(f\"el valor minimo es: {minimo}\")\n",
    "print(f\"El valor maximo del array es: {maximo}\")\n",
    "# Ahora cambiamos los valores a min y max a 0\n",
    "array_uni[array_uni == minimo] = 0\n",
    "array_uni[array_uni == maximo] = 0\n",
    "print(array_uni)\n"
   ]
  },
  {
   "cell_type": "markdown",
   "id": "781fafd0",
   "metadata": {},
   "source": [
    "#### Ejercicio 12 - Genera un array de 15 números aleatorios enteros entre 1 y 100 y reordénalo en orden ascendente."
   ]
  },
  {
   "cell_type": "code",
   "execution_count": null,
   "id": "caa4fd47",
   "metadata": {},
   "outputs": [
    {
     "name": "stdout",
     "output_type": "stream",
     "text": [
      "[16 57 82 49  9 63 38 88 48 79 87 37 14 94 65]\n",
      "[12 19 36 44 45 50 51 51 53 53 64 68 78 84 88]\n"
     ]
    }
   ],
   "source": [
    "# Creo un array de 15 numeros aleatorios entre 1 y 100 y lo ordeno\n",
    "array_uni1= np.random.randint(1,101,(15))\n",
    "print(array_uni)\n",
    "array_uni1= np.sort(array_uni1)\n",
    "print(array_uni1)"
   ]
  },
  {
   "cell_type": "markdown",
   "id": "45f10c3e",
   "metadata": {},
   "source": [
    "#### Ejercicio 11 - Calcula la suma de los elementos a lo largo de las filas y columnas en una matriz 4x4."
   ]
  },
  {
   "cell_type": "code",
   "execution_count": 76,
   "id": "90220788",
   "metadata": {},
   "outputs": [
    {
     "name": "stdout",
     "output_type": "stream",
     "text": [
      "[[38 22 19 24]\n",
      " [19  5 17 28]\n",
      " [ 9  7  6  9]\n",
      " [ 4 30 38  6]]\n",
      "Sumamos las columnas [70 64 80 67]\n",
      "Sumamos las filas: [103  69  31  78]\n"
     ]
    }
   ],
   "source": [
    "# Creo un array de 4 filas y 4 columnas y sumo sus elementos a lo largo de la fila.\n",
    "array_suma = np.random.randint(1,40,(4,4))\n",
    "print(array_suma)\n",
    "suma_columnas = np.sum(array_suma, axis = 0)\n",
    "print(f\"Sumamos las columnas {suma_columnas}\")\n",
    "suma_filas = np.sum(array_suma, axis = 1)\n",
    "print(f\"Sumamos las filas: {suma_filas}\")"
   ]
  },
  {
   "cell_type": "markdown",
   "id": "69b9751a",
   "metadata": {},
   "source": [
    "#### Ejercicio 12 - Crea una matriz de 5x5 con valores en el borde igual a 1 y en el interior igual a 0."
   ]
  },
  {
   "cell_type": "code",
   "execution_count": 82,
   "id": "eca81323",
   "metadata": {},
   "outputs": [
    {
     "name": "stdout",
     "output_type": "stream",
     "text": [
      "[[1. 1. 1. 1. 1.]\n",
      " [1. 0. 0. 0. 1.]\n",
      " [1. 0. 0. 0. 1.]\n",
      " [1. 0. 0. 0. 1.]\n",
      " [1. 1. 1. 1. 1.]]\n"
     ]
    }
   ],
   "source": [
    "# Creo una matriz de 5x5 con valores en el borde igual a 1 y en el interior igual a 0\n",
    "\n",
    "array_bordes = np.zeros((5, 5))\n",
    "\n",
    "# Establecer los bordes de la matriz como 1\n",
    "array_bordes[0, :] = 1  \n",
    "array_bordes[4, :] = 1  \n",
    "array_bordes[:, 0] = 1  \n",
    "array_bordes[:, 4] = 1 \n",
    "\n",
    "print(array_bordes)\n"
   ]
  },
  {
   "cell_type": "markdown",
   "id": "1ea8068d",
   "metadata": {},
   "source": [
    "#### Ejercicio 13 - Calcula la media y la desviación estándar de un array de 10 números aleatorios."
   ]
  },
  {
   "cell_type": "code",
   "execution_count": 89,
   "id": "05dd579d",
   "metadata": {},
   "outputs": [
    {
     "name": "stdout",
     "output_type": "stream",
     "text": [
      "[ 8 23  5 31 29 22  6  2 25 27]\n",
      "22.5\n",
      "112.96\n"
     ]
    }
   ],
   "source": [
    "# Creo el array y calcula la media y la desviación estarndar\n",
    "array_aleatorio1 = np.random.randint(1,50,(10))\n",
    "print(array_aleatorio1)\n",
    "calculo_media = np.median(array_aleatorio1)\n",
    "print(calculo_media)\n",
    "calculo_varianza = np.var(array_aleatorio1)\n",
    "print(calculo_varianza)\n"
   ]
  },
  {
   "cell_type": "markdown",
   "id": "6add6669",
   "metadata": {},
   "source": [
    "#### Ejercicio 14 - Genera un array tridimensional de dimensiones (2, 3, 4) con valores enteros del 1 al 24.\n",
    "\n",
    "- Transpón el array para intercambiar los ejes de la forma (2, 3, 4) a (4, 3, 2).\n",
    "\n",
    "- Observa cómo cambian las posiciones de los elementos y sus índices después de la transposición. Explica en una celda de markdown que es lo que ha pasado. \n"
   ]
  },
  {
   "cell_type": "code",
   "execution_count": 94,
   "id": "ae98aca5",
   "metadata": {},
   "outputs": [
    {
     "name": "stdout",
     "output_type": "stream",
     "text": [
      "[[[16 17 17 13]\n",
      "  [ 2 12 17  9]\n",
      "  [10 19 11  7]]\n",
      "\n",
      " [[18 13 10 16]\n",
      "  [ 2 16 24  4]\n",
      "  [ 5  6  8 22]]]\n",
      "[[[16 18]\n",
      "  [ 2  2]\n",
      "  [10  5]]\n",
      "\n",
      " [[17 13]\n",
      "  [12 16]\n",
      "  [19  6]]\n",
      "\n",
      " [[17 10]\n",
      "  [17 24]\n",
      "  [11  8]]\n",
      "\n",
      " [[13 16]\n",
      "  [ 9  4]\n",
      "  [ 7 22]]]\n"
     ]
    }
   ],
   "source": [
    "# Genero un array trimidensional de 2 matrices, 3 filas y 4 columnas - con valores del 1 al 24\n",
    "\n",
    "array_tridimensional_5 = np.random.randint(1, 25,(2,3,4))\n",
    "print(array_tridimensional_5)\n",
    "# Y ahora utilizo la funcion np.transpose para que se intercambien los ejes.\n",
    "array_transpuesto = np.transpose(array_tridimensional_5)\n",
    "print(array_transpuesto)"
   ]
  },
  {
   "cell_type": "markdown",
   "id": "0b31be8a",
   "metadata": {},
   "source": [
    "## Explicación\n",
    "\n",
    "  Como podemos ver ha pasado de un array de 2 matrices, 3 filas y 4 columnas, se ha transpuesto a un array de 4 matrices, 3 filas y 2 columnas. Por lo que se han transpuesto las columnas  con las matrices. "
   ]
  },
  {
   "cell_type": "markdown",
   "id": "1e32b5e6",
   "metadata": {},
   "source": [
    "#### Ejercicio 15 - Genera un array tridimensional de dimensiones (3, 4, 2) con valores enteros del 1 al 24.\n",
    "\n",
    "- Transpón el array para intercambiar el primer y segundo eje, de manera que la nueva forma del array sea (4, 3, 2).\n"
   ]
  },
  {
   "cell_type": "code",
   "execution_count": 110,
   "id": "0146fdd6",
   "metadata": {},
   "outputs": [
    {
     "name": "stdout",
     "output_type": "stream",
     "text": [
      "[[[24 13]\n",
      "  [ 8 14]\n",
      "  [14 24]\n",
      "  [15 15]]\n",
      "\n",
      " [[23  6]\n",
      "  [ 1  5]\n",
      "  [21 21]\n",
      "  [11 13]]\n",
      "\n",
      " [[17 12]\n",
      "  [20 19]\n",
      "  [21  1]\n",
      "  [23  5]]]\n",
      "Después de hacer el transpose:\n",
      " [[[24 13]\n",
      "  [23  6]\n",
      "  [17 12]]\n",
      "\n",
      " [[ 8 14]\n",
      "  [ 1  5]\n",
      "  [20 19]]\n",
      "\n",
      " [[14 24]\n",
      "  [21 21]\n",
      "  [21  1]]\n",
      "\n",
      " [[15 15]\n",
      "  [11 13]\n",
      "  [23  5]]]\n"
     ]
    }
   ],
   "source": [
    "# Genero un array tridimensional de 3 matrices 4 filas y 2 columnas con valores del 1 al 24\n",
    "tridimensional = np.random.randint(1, 25, (3,4,2))\n",
    "print(tridimensional)\n",
    "# Ahora transpongo el array para que sea 4,3,2\n",
    "transpuesto = np.transpose(tridimensional, (1, 0, 2))\n",
    "print(f\"Después de hacer el transpose:\\n {transpuesto}\")"
   ]
  },
  {
   "cell_type": "markdown",
   "id": "fcf92586",
   "metadata": {},
   "source": [
    "#### Ejercicio 16 - Genera un array tridimensional de dimensiones (3, 2, 4) con valores enteros del 1 al 24.\n",
    "\n",
    "- Realiza una rotación completa de los ejes para convertir la forma original (3, 2, 4) en (4, 3, 2).\n"
   ]
  },
  {
   "cell_type": "code",
   "execution_count": 119,
   "id": "dd2c7f27",
   "metadata": {},
   "outputs": [
    {
     "name": "stdout",
     "output_type": "stream",
     "text": [
      "[[[16 15 16 13]\n",
      "  [ 5  3 19  7]]\n",
      "\n",
      " [[20  3  1 12]\n",
      "  [10  4 21  6]]\n",
      "\n",
      " [[11  7  2  5]\n",
      "  [24  8  9 20]]]\n",
      "Rotacion total del array: [[[16  5]\n",
      "  [20 10]\n",
      "  [11 24]]\n",
      "\n",
      " [[15  3]\n",
      "  [ 3  4]\n",
      "  [ 7  8]]\n",
      "\n",
      " [[16 19]\n",
      "  [ 1 21]\n",
      "  [ 2  9]]\n",
      "\n",
      " [[13  7]\n",
      "  [12  6]\n",
      "  [ 5 20]]]\n"
     ]
    }
   ],
   "source": [
    "tri_array = np.random.randint(1,25,(3,2,4))\n",
    "print(tri_array)\n",
    "rotacion = np.transpose(tri_array, (2, 0, 1))\n",
    "print(f\"Rotacion total del array: {rotacion}\")"
   ]
  },
  {
   "cell_type": "markdown",
   "id": "1795e11f",
   "metadata": {},
   "source": [
    "#### Ejercicio 17 - Manipulación de Arrays en 3D\n",
    "\n",
    "- Crea un array tridimensional con dimensiones (3, 4, 5) cuyos elementos sean números enteros aleatorios entre -10 y 10.\n",
    "\n",
    "- Crea un array vacío con la misma forma y dimensiones que el array creado anteriormente. Luego, reemplaza los valores de la matriz vacía basada en los valores del primer array bajo las siguientes condiciones:\n",
    "\n",
    "   - Si el valor es igual a la mediana, se reemplaza por `\"M\"`.\n",
    "\n",
    "   - Si el valor es mayor que la mediana, se reemplaza por `\"X\"`.\n",
    "\n",
    "   - Si el valor es menor que la mediana, se reemplaza por `\"Y\"`.\n",
    "\n",
    "   - Si el valor es igual al máximo, se reemplaza por `\"MAX\"`.\n",
    "\n",
    "   - Si el valor es igual al mínimo, se reemplaza por `\"MIN\"`.\n"
   ]
  },
  {
   "cell_type": "code",
   "execution_count": 121,
   "id": "d309b397",
   "metadata": {},
   "outputs": [
    {
     "name": "stdout",
     "output_type": "stream",
     "text": [
      "[[[ -4  -2  -8  -9   0]\n",
      "  [-10  -2   7  -4   6]\n",
      "  [  8   5 -10  -8  -9]\n",
      "  [  7  -8  -6  -8   5]]\n",
      "\n",
      " [[  6   7  -5   6  -2]\n",
      "  [ -1  -5 -10  -1  -6]\n",
      "  [ -5   5   6   3   1]\n",
      "  [ -1  -8   1   1   4]]\n",
      "\n",
      " [[  3  -2   3  -7  -7]\n",
      "  [  6 -10 -10   6  -6]\n",
      "  [ -7   5   5   0   3]\n",
      "  [  0  -6  -3   9   6]]]\n",
      "[[['Y' 'Y' 'Y' 'Y' 'X']\n",
      "  ['MIN' 'Y' 'X' 'Y' 'X']\n",
      "  ['X' 'X' 'MIN' 'Y' 'Y']\n",
      "  ['X' 'Y' 'Y' 'Y' 'X']]\n",
      "\n",
      " [['X' 'X' 'Y' 'X' 'Y']\n",
      "  ['M' 'Y' 'MIN' 'M' 'Y']\n",
      "  ['Y' 'X' 'X' 'X' 'X']\n",
      "  ['M' 'Y' 'X' 'X' 'X']]\n",
      "\n",
      " [['X' 'Y' 'X' 'Y' 'Y']\n",
      "  ['X' 'MIN' 'MIN' 'X' 'Y']\n",
      "  ['Y' 'X' 'X' 'X' 'X']\n",
      "  ['X' 'Y' 'Y' 'MAX' 'X']]]\n"
     ]
    }
   ],
   "source": [
    "\n",
    "# Creo un array tridimensional de  (3, 4, 5) con números aleatorios entre -10 y 10\n",
    "array = np.random.randint(-10, 11, (3, 4, 5))\n",
    "print(array)\n",
    "\n",
    "# Calculo: mediana, máximo y mínimo\n",
    "media = np.median(array)\n",
    "maximo = np.max(array)\n",
    "minimo = np.min(array)\n",
    "\n",
    "# Creo un array vacío con la misma forma que el array original\n",
    "array_vacio = np.empty_like(array, dtype=object)\n",
    "\n",
    "# Rellenar el nuevo array con las condiciones\n",
    "array_vacio[array == media] = \"M\"\n",
    "array_vacio[array > media] = \"X\"\n",
    "array_vacio[array < media] = \"Y\"\n",
    "array_vacio[array == maximo] = \"MAX\"\n",
    "array_vacio[array == minimo] = \"MIN\"\n",
    "\n",
    "print(array_vacio)\n"
   ]
  },
  {
   "cell_type": "markdown",
   "id": "83794704",
   "metadata": {},
   "source": [
    "#### Ejercicio 18 - Verificación de Filas y Columnas Iguales\n",
    "\n",
    "Crea un array bidimensional de dimensiones 4x4, escribe un código para determinar si alguna fila es exactamente igual a alguna columna.\n",
    "\n",
    "**Reglas:**\n",
    "\n",
    "- No puedes usar funciones predefinidas de NumPy para comparar filas y columnas (`np.array_equal`, etc.).\n",
    "\n",
    "- Debes resolverlo con estructuras básicas de Python (bucles, condicionales, etc.).\n",
    "\n",
    "- Debes revisar si hay al menos una fila que coincida exactamente con alguna columna.\n",
    "\n",
    "**Pistas**:\n",
    "\n",
    "- Puedes recorrer cada fila y cada columna de la matriz usando bucles.\n",
    "\n",
    "- Para comparar una fila con una columna, puedes hacerlo elemento por elemento."
   ]
  },
  {
   "cell_type": "code",
   "execution_count": 334,
   "id": "afd51c60",
   "metadata": {},
   "outputs": [
    {
     "name": "stdout",
     "output_type": "stream",
     "text": [
      "[[5 7 9 5]\n",
      " [4 1 9 9]\n",
      " [9 7 1 2]\n",
      " [6 8 4 3]]\n",
      "No hay coincidencias.\n"
     ]
    }
   ],
   "source": [
    "\n",
    "# Creo un array bidimensional de  4x4 con valores  entre 1 y 10\n",
    "bidi_array = np.random.randint(1, 11, (4, 4))\n",
    "print(bidi_array)\n",
    "\n",
    "coincidencias = False\n",
    "\n",
    "# Hacemos un bucle que recorra todas las filas\n",
    "for filas in range(bidi_array.shape[0]): \n",
    "    fila = bidi_array[filas, :]  \n",
    "# Ahora recorremos las columnas\n",
    "    for columnas in range(bidi_array.shape[1]):  \n",
    "        columna = bidi_array[:, columnas]  \n",
    "        \n",
    "# Comparamos elemento por elemento\n",
    "        if all(fila[i] == columna[i] for i in range(len(fila))):\n",
    "            coincidencias = True\n",
    "            print(f\"Fila {fila} coincide con la columna {columna}: {fila}\")\n",
    "            break\n",
    "    if coincidencias:\n",
    "        break\n",
    "\n",
    "if not coincidencias:\n",
    "    print(\"No hay coincidencias.\")\n"
   ]
  }
 ],
 "metadata": {
  "kernelspec": {
   "display_name": "Python 3",
   "language": "python",
   "name": "python3"
  },
  "language_info": {
   "codemirror_mode": {
    "name": "ipython",
    "version": 3
   },
   "file_extension": ".py",
   "mimetype": "text/x-python",
   "name": "python",
   "nbconvert_exporter": "python",
   "pygments_lexer": "ipython3",
   "version": "3.11.4"
  }
 },
 "nbformat": 4,
 "nbformat_minor": 5
}
