{
 "cells": [
  {
   "cell_type": "markdown",
   "id": "6db588db",
   "metadata": {},
   "source": [
    "<div style=\"text-align: center;\">\n",
    "  <img src=\"https://github.com/Hack-io-Data/Imagenes/blob/main/01-LogosHackio/logo_naranja@4x.png?raw=true\" alt=\"esquema\" />\n",
    "</div>"
   ]
  },
  {
   "cell_type": "code",
   "execution_count": 115,
   "id": "11d3f85f",
   "metadata": {},
   "outputs": [],
   "source": [
    "import os"
   ]
  },
  {
   "cell_type": "code",
   "execution_count": 116,
   "id": "64ff9293",
   "metadata": {},
   "outputs": [
    {
     "data": {
      "text/plain": [
       "['.git', 'laboratorio-modulo2-leccion01-numpy.ipynb', 'README.md']"
      ]
     },
     "execution_count": 116,
     "metadata": {},
     "output_type": "execute_result"
    }
   ],
   "source": [
    "datos = os.listdir()\n",
    "datos"
   ]
  },
  {
   "cell_type": "code",
   "execution_count": 117,
   "id": "74e36252",
   "metadata": {},
   "outputs": [
    {
     "ename": "NameError",
     "evalue": "name 'diccioanrio_df' is not defined",
     "output_type": "error",
     "traceback": [
      "\u001b[1;31m---------------------------------------------------------------------------\u001b[0m",
      "\u001b[1;31mNameError\u001b[0m                                 Traceback (most recent call last)",
      "Cell \u001b[1;32mIn[117], line 1\u001b[0m\n\u001b[1;32m----> 1\u001b[0m diccioanrio_df \u001b[38;5;241m=\u001b[39m \u001b[43m{\u001b[49m\u001b[43mdiccioanrio_df\u001b[49m\u001b[43m[\u001b[49m\u001b[43mre\u001b[49m\u001b[38;5;241;43m.\u001b[39;49m\u001b[43mfindall\u001b[49m\u001b[43m(\u001b[49m\u001b[38;5;124;43m\"\u001b[39;49m\u001b[38;5;124;43m\\\u001b[39;49m\u001b[38;5;124;43md\u001b[39;49m\u001b[38;5;132;43;01m{4}\u001b[39;49;00m\u001b[38;5;124;43m\"\u001b[39;49m\u001b[43m,\u001b[49m\u001b[43m \u001b[49m\u001b[43mi\u001b[49m\u001b[43m)\u001b[49m\u001b[43m[\u001b[49m\u001b[38;5;241;43m0\u001b[39;49m\u001b[43m]\u001b[49m\u001b[43m]\u001b[49m\u001b[43m \u001b[49m\u001b[43m:\u001b[49m\u001b[43m \u001b[49m\u001b[43mpd\u001b[49m\u001b[38;5;241;43m.\u001b[39;49m\u001b[43mread_csv\u001b[49m\u001b[43m(\u001b[49m\u001b[38;5;124;43mf\u001b[39;49m\u001b[38;5;124;43m\"\u001b[39;49m\u001b[38;5;124;43m..dato/\u001b[39;49m\u001b[38;5;132;43;01m{\u001b[39;49;00m\u001b[43mi\u001b[49m\u001b[38;5;132;43;01m}\u001b[39;49;00m\u001b[38;5;124;43m\"\u001b[39;49m\u001b[43m)\u001b[49m\u001b[43m \u001b[49m\u001b[38;5;28;43;01mfor\u001b[39;49;00m\u001b[43m \u001b[49m\u001b[43mi\u001b[49m\u001b[43m \u001b[49m\u001b[38;5;129;43;01min\u001b[39;49;00m\u001b[43m \u001b[49m\u001b[43mdatos\u001b[49m\u001b[43m}\u001b[49m\n\u001b[0;32m      3\u001b[0m diccioanrio_df \u001b[38;5;241m=\u001b[39m {}\n\u001b[0;32m      4\u001b[0m \u001b[38;5;28;01mfor\u001b[39;00m i \u001b[38;5;129;01min\u001b[39;00m datos:\n",
      "Cell \u001b[1;32mIn[117], line 1\u001b[0m, in \u001b[0;36m<dictcomp>\u001b[1;34m(.0)\u001b[0m\n\u001b[1;32m----> 1\u001b[0m diccioanrio_df \u001b[38;5;241m=\u001b[39m {\u001b[43mdiccioanrio_df\u001b[49m[re\u001b[38;5;241m.\u001b[39mfindall(\u001b[38;5;124m\"\u001b[39m\u001b[38;5;124m\\\u001b[39m\u001b[38;5;124md\u001b[39m\u001b[38;5;132;01m{4}\u001b[39;00m\u001b[38;5;124m\"\u001b[39m, i)[\u001b[38;5;241m0\u001b[39m]] : pd\u001b[38;5;241m.\u001b[39mread_csv(\u001b[38;5;124mf\u001b[39m\u001b[38;5;124m\"\u001b[39m\u001b[38;5;124m..dato/\u001b[39m\u001b[38;5;132;01m{\u001b[39;00mi\u001b[38;5;132;01m}\u001b[39;00m\u001b[38;5;124m\"\u001b[39m) \u001b[38;5;28;01mfor\u001b[39;00m i \u001b[38;5;129;01min\u001b[39;00m datos}\n\u001b[0;32m      3\u001b[0m diccioanrio_df \u001b[38;5;241m=\u001b[39m {}\n\u001b[0;32m      4\u001b[0m \u001b[38;5;28;01mfor\u001b[39;00m i \u001b[38;5;129;01min\u001b[39;00m datos:\n",
      "\u001b[1;31mNameError\u001b[0m: name 'diccioanrio_df' is not defined"
     ]
    }
   ],
   "source": [
    "diccioanrio_df = {diccioanrio_df[re.findall(\"\\d{4}\", i)[0]] : pd.read_csv(f\"..dato/{i}\") for i in datos}\n",
    "\n",
    "diccioanrio_df = {}\n",
    "for i in datos:\n",
    "    df = pd.read_csv(i)\n",
    "    diccioanrio_df[i.spl]\n"
   ]
  },
  {
   "cell_type": "markdown",
   "id": "11308d6c",
   "metadata": {},
   "source": [
    "for i in datos\n",
    "# Laboratorio de NumPy"
   ]
  },
  {
   "cell_type": "code",
   "execution_count": null,
   "id": "617b7117",
   "metadata": {},
   "outputs": [],
   "source": [
    "import numpy as np "
   ]
  },
  {
   "cell_type": "markdown",
   "id": "a19d4596",
   "metadata": {},
   "source": [
    "#### Ejercicio 1 - Crea un array de 1D con los números del 0 al 9."
   ]
  },
  {
   "cell_type": "code",
   "execution_count": null,
   "id": "9d4e1d42",
   "metadata": {},
   "outputs": [
    {
     "name": "stdout",
     "output_type": "stream",
     "text": [
      "La lista a partir de la que crearemos un array unidimensional es: [1, 2, 3, 4, 5, 6, 7, 8, 9]\n",
      "El array unidimensional creado a partir de la lista es: \n",
      "  [1 2 3 4 5 6 7 8 9] \n",
      "\n"
     ]
    }
   ],
   "source": [
    "\n",
    "# definimos una lista que usaremos para convertir en array unidimensional\n",
    "lista = [1, 2, 3, 4, 5, 6, 7, 8, 9]\n",
    "print(\"La lista a partir de la que crearemos un array unidimensional es:\", lista)\n",
    "\n",
    "# convertimos la lista en array usando el método 'np.array()' \n",
    "array_unidimensional = np.array(lista)\n",
    "print(f\"El array unidimensional creado a partir de la lista es: \\n  {array_unidimensional} \\n\")"
   ]
  },
  {
   "cell_type": "markdown",
   "id": "f4a41f16",
   "metadata": {},
   "source": [
    "#### Ejercicio 2 - Convierte un array 1D en un array 2D con 2 filas y 5 columnas."
   ]
  },
  {
   "cell_type": "code",
   "execution_count": null,
   "id": "3d7cef3c",
   "metadata": {},
   "outputs": [
    {
     "name": "stdout",
     "output_type": "stream",
     "text": [
      "[[ 1  2  3  4  5]\n",
      " [ 6  7  8  9 10]]\n"
     ]
    }
   ],
   "source": [
    "# Creo un array unimensional\n",
    "array_unidimensional = np.array([1, 2, 3, 4, 5, 6, 7, 8, 9,10])\n",
    "\n",
    "# Convierto a un array de 2 dimensiones con 2 filas y 5 columnas:\n",
    "array_bidimensional = array_unidimensional.reshape(2, 5)\n",
    "\n",
    "print(array_bidimensional)\n"
   ]
  },
  {
   "cell_type": "markdown",
   "id": "86bb8999",
   "metadata": {},
   "source": [
    "#### Ejercicio 3 - Encuentra los índices de los elementos con valor distinto de 0 en el siguiente array: [0, 2, 0, 3, 0, 4, 0]."
   ]
  },
  {
   "cell_type": "code",
   "execution_count": null,
   "id": "d1fcfca4",
   "metadata": {},
   "outputs": [
    {
     "name": "stdout",
     "output_type": "stream",
     "text": [
      "[ 0 25  0 44  0  3  0]\n",
      "(array([1, 3, 5]),)\n"
     ]
    }
   ],
   "source": [
    "# Sobre el array dado hago un np.where para encontrar valores distintos a 0.\n",
    "array_elementos = np.array([0, 25, 0, 44, 0, 3, 0])\n",
    "print(array_elementos)\n",
    "elementos_distintos_zero = np.where(array_elementos != 0)\n",
    "print(elementos_distintos_zero)\n"
   ]
  },
  {
   "cell_type": "markdown",
   "id": "1c548419",
   "metadata": {},
   "source": [
    "#### Ejercicio 4 - Crea un array 3x3 con valores aleatorios entre 0 y 1."
   ]
  },
  {
   "cell_type": "code",
   "execution_count": null,
   "id": "e1d4f19f",
   "metadata": {},
   "outputs": [
    {
     "name": "stdout",
     "output_type": "stream",
     "text": [
      "[[0.87994606 0.96005175 0.55301484]\n",
      " [0.6321355  0.81356815 0.8563021 ]\n",
      " [0.84678422 0.68852179 0.87103707]]\n"
     ]
    }
   ],
   "source": [
    "array_3x3 = np.random.rand(3,3)\n",
    "print(array_3x3)\n"
   ]
  },
  {
   "cell_type": "markdown",
   "id": "aee82811",
   "metadata": {},
   "source": [
    "#### Ejercicio 5 - Crea un array de 10 números aleatorios y encuentra el valor máximo y mínimo."
   ]
  },
  {
   "cell_type": "code",
   "execution_count": null,
   "id": "81fea76e",
   "metadata": {},
   "outputs": [
    {
     "name": "stdout",
     "output_type": "stream",
     "text": [
      "Array Aleatorio: [ 34 136  16  96 103  85  68 125  33  19]\n",
      "Valor Máximo del array: 136\n",
      "Valor Mínimo del array: 16\n"
     ]
    }
   ],
   "source": [
    "# Creo el array aleatorio con random randint.\n",
    "array_aleatorio = np.random.randint(0, 150, size=10)\n",
    "\n",
    "# Encontrar el valor máximo y mínimo\n",
    "valor_maximo = np.max(array_aleatorio)\n",
    "valor_minimo = np.min(array_aleatorio)\n",
    "\n",
    "print(f\"Array Aleatorio:\", array_aleatorio)\n",
    "print(f\"Valor Máximo del array:\", valor_maximo)\n",
    "print(f\"Valor Mínimo del array:\", valor_minimo)\n"
   ]
  },
  {
   "cell_type": "markdown",
   "id": "6559375b",
   "metadata": {},
   "source": [
    "#### Ejercicio 6 - Crea un array de una dimensión e inviértelo. "
   ]
  },
  {
   "cell_type": "code",
   "execution_count": null,
   "id": "31385db0",
   "metadata": {},
   "outputs": [
    {
     "name": "stdout",
     "output_type": "stream",
     "text": [
      "[ 1  2  3  4  5  6  7  8  9 10]\n",
      "[10  9  8  7  6  5  4  3  2  1]\n"
     ]
    }
   ],
   "source": [
    "array_unidimensional\n",
    "print(array_unidimensional)\n",
    "array_ivertido = np.flip(array_unidimensional)\n",
    "print(array_ivertido)"
   ]
  },
  {
   "cell_type": "markdown",
   "id": "4457f046",
   "metadata": {},
   "source": [
    "\n",
    "#### Ejercicio 6 - Genera un array tridimensional de dimensiones (2, 3, 4) con valores enteros del 1 al 24.\n",
    "\n",
    "- Selecciona el primer `15` del array.\n",
    "\n",
    "- Selecciona todos los elementos del primer array. \n",
    "\n",
    "- Selecciona la última fila del último array\n"
   ]
  },
  {
   "cell_type": "code",
   "execution_count": null,
   "id": "3cab04c9",
   "metadata": {},
   "outputs": [
    {
     "name": "stdout",
     "output_type": "stream",
     "text": [
      "[[[ 1 16 19  4]\n",
      "  [ 1 17 18 11]\n",
      "  [16  5 24 15]]\n",
      "\n",
      " [[20 15  1 12]\n",
      "  [11 10  5 11]\n",
      "  [ 7  6  5 23]]]\n"
     ]
    }
   ],
   "source": [
    "# Genero con random randint el array, dandole los parametros pedidos y eligiendo matriz, filas y columnas y lo printeo\n",
    "array_tridimensional = np.random.randint(0,25,(2,3,4))\n",
    "print(array_tridimensional)"
   ]
  },
  {
   "cell_type": "code",
   "execution_count": null,
   "id": "dbada3c9",
   "metadata": {},
   "outputs": [
    {
     "name": "stdout",
     "output_type": "stream",
     "text": [
      "[[ 1 16 19  4]\n",
      " [ 1 17 18 11]\n",
      " [16  5 24 15]]\n",
      "accedemos al primer 15:15\n",
      "me pides que selecciones todo el array :\n",
      " [[[ 1 16 19  4]\n",
      "  [ 1 17 18 11]\n",
      "  [16  5 24 15]]\n",
      "\n",
      " [[20 15  1 12]\n",
      "  [11 10  5 11]\n",
      "  [ 7  6  5 23]]]\n",
      "accedemos a la ultima fila [ 7  6  5 23]\n"
     ]
    }
   ],
   "source": [
    "# Printeo primero la pirmera matriz\n",
    "print(array_tridimensional[0])\n",
    "# Printeo la primera matriz, fila 3 y columna 4 que es donde esta el primer 15\n",
    "print(f\"accedemos al primer 15:{array_tridimensional[0,2,3]}\")\n",
    "# Printeo todo el array\n",
    "print(f\"me pides que selecciones todo el array :\\n {array_tridimensional}\")\n",
    "# Selecciono la ultima fila del ultimo array\n",
    "print(f\"accedemos a la ultima fila {array_tridimensional[1,2]}\")\n",
    "\n"
   ]
  },
  {
   "cell_type": "markdown",
   "id": "681b7e4e",
   "metadata": {},
   "source": [
    "\n",
    "#### Ejercicio 7 - Genera un array tridimensional de dimensiones (3, 2, 5) con valores enteros del 1 al 30.\n",
    "\n",
    "- Selecciona el subarray que contiene los dos primeros elementos de cada fila del primer array.\n",
    "\n",
    "- Selecciona el subarray que contiene todas las filas de los dos últimos arrays.\n"
   ]
  },
  {
   "cell_type": "code",
   "execution_count": null,
   "id": "b008a9aa",
   "metadata": {},
   "outputs": [
    {
     "name": "stdout",
     "output_type": "stream",
     "text": [
      "[[[21 14 25 24  1]\n",
      "  [18 17 10 30 21]]\n",
      "\n",
      " [[15 13 26 30 30]\n",
      "  [25 27 12  7  1]]\n",
      "\n",
      " [[15 14 29 10 27]\n",
      "  [14 24 29 27 16]]]\n"
     ]
    }
   ],
   "source": [
    "# Genero el array como me piden de 3 matrizes , 2 filas y 5 columnnas y que sus numeros sean del 1 al 30\n",
    "array_tridimensional_1 = np.random.randint(0,31,(3,2,5))\n",
    "print(array_tridimensional_1)"
   ]
  },
  {
   "cell_type": "code",
   "execution_count": 128,
   "id": "358ed426",
   "metadata": {},
   "outputs": [
    {
     "name": "stdout",
     "output_type": "stream",
     "text": [
      "Printeo los 2 primeros elementos de la primera matriz:\n",
      " [[21 14]\n",
      " [18 17]]\n"
     ]
    }
   ],
   "source": [
    "# Me pide que imprima los dos primeros elementos de cada fila de la primera matriz.\n",
    "print(f\"Printeo los 2 primeros elementos de la primera matriz:\\n {array_tridimensional_1[0,:,:2]}\")"
   ]
  },
  {
   "cell_type": "code",
   "execution_count": 136,
   "id": "574ac051",
   "metadata": {},
   "outputs": [
    {
     "name": "stdout",
     "output_type": "stream",
     "text": [
      "[[25 27 12  7  1]\n",
      " [14 24 29 27 16]]\n"
     ]
    }
   ],
   "source": [
    "# Selecciono la ultima filas de las 2 ultimas matrices \n",
    "print(array_tridimensional_1[1:,-1,:])"
   ]
  },
  {
   "cell_type": "markdown",
   "id": "4fabd9d0",
   "metadata": {},
   "source": [
    "#### Ejercicio 8 - Genera un array tridimensional de dimensiones (4, 3, 2) con valores enteros del 1 al 24.\n",
    "\n",
    "- Cambia todos los elementos de la segunda fila del segundo array por `0`.\n",
    "\n",
    "- Cambia todos los valores del último array a `-1`.\n"
   ]
  },
  {
   "cell_type": "code",
   "execution_count": 137,
   "id": "0ef45b69",
   "metadata": {},
   "outputs": [
    {
     "name": "stdout",
     "output_type": "stream",
     "text": [
      "[[[ 6 20]\n",
      "  [ 6 17]\n",
      "  [ 2  8]]\n",
      "\n",
      " [[ 2  8]\n",
      "  [ 5 10]\n",
      "  [ 6 15]]\n",
      "\n",
      " [[19  9]\n",
      "  [23 20]\n",
      "  [ 1  1]]\n",
      "\n",
      " [[18 17]\n",
      "  [14 15]\n",
      "  [17  0]]]\n"
     ]
    }
   ],
   "source": [
    "# Genero el array como me piden de 4 matrizes , 3 filas y 2 columnnas y que sus numeros sean del 1 al 24\n",
    "array_tridimensional_2 = np.random.randint(0,24,(4,3,2))\n",
    "print(array_tridimensional_2)"
   ]
  },
  {
   "cell_type": "code",
   "execution_count": 139,
   "id": "1dca8f0e",
   "metadata": {},
   "outputs": [
    {
     "name": "stdout",
     "output_type": "stream",
     "text": [
      "[[[ 6 20]\n",
      "  [ 6 17]\n",
      "  [ 2  8]]\n",
      "\n",
      " [[ 2  8]\n",
      "  [ 0  0]\n",
      "  [ 6 15]]\n",
      "\n",
      " [[19  9]\n",
      "  [23 20]\n",
      "  [ 1  1]]\n",
      "\n",
      " [[18 17]\n",
      "  [14 15]\n",
      "  [17  0]]]\n"
     ]
    }
   ],
   "source": [
    "# Cambio los elemendtos de la segunda fila del segundo array por 0.\n",
    "array_tridimensional_2[1, 1, :] = 0\n",
    "print(array_tridimensional_2)\n"
   ]
  },
  {
   "cell_type": "code",
   "execution_count": 141,
   "id": "d6eb8359",
   "metadata": {},
   "outputs": [
    {
     "name": "stdout",
     "output_type": "stream",
     "text": [
      "[[[ 6 20]\n",
      "  [ 6 17]\n",
      "  [ 2  8]]\n",
      "\n",
      " [[ 2  8]\n",
      "  [ 0  0]\n",
      "  [ 6 15]]\n",
      "\n",
      " [[19  9]\n",
      "  [23 20]\n",
      "  [ 1  1]]\n",
      "\n",
      " [[-1 -1]\n",
      "  [-1 -1]\n",
      "  [-1 -1]]]\n"
     ]
    }
   ],
   "source": [
    "# Cambio todos los elementos del ultimo array a -1.\n",
    "array_tridimensional_2[3,:,:] = -1\n",
    "print(array_tridimensional_2)"
   ]
  },
  {
   "cell_type": "markdown",
   "id": "c60bc3bb",
   "metadata": {},
   "source": [
    "\n",
    "#### Ejercicio 9 - Genera un array tridimensional de dimensiones (2, 4, 3) con valores enteros del -10 al 13.\n",
    "\n",
    "- Selecciona todos los elementos mayores a `5`.\n",
    "\n",
    "- Reemplaza todos los elementos negativos por `0`.\n"
   ]
  },
  {
   "cell_type": "code",
   "execution_count": 149,
   "id": "28bf9232",
   "metadata": {},
   "outputs": [
    {
     "name": "stdout",
     "output_type": "stream",
     "text": [
      "[[[ 2 11 11]\n",
      "  [-6  7  3]\n",
      "  [ 1 10 -5]\n",
      "  [ 1 -3 -3]]\n",
      "\n",
      " [[11 13 -4]\n",
      "  [-2 -8 11]\n",
      "  [12 -6  1]\n",
      "  [ 6  3  8]]]\n"
     ]
    }
   ],
   "source": [
    "# Genero el array como me piden de 2 matrizes , 4 filas y 3 columnnas y que sus numeros sean del 1 al 24\n",
    "array_tridimensional_3 = np.random.randint(-10,14,(2,4,3))\n",
    "print(array_tridimensional_3)"
   ]
  },
  {
   "cell_type": "code",
   "execution_count": null,
   "id": "996188be",
   "metadata": {},
   "outputs": [
    {
     "name": "stdout",
     "output_type": "stream",
     "text": [
      "[11 11  7 10 11 13 11 12  6  8]\n"
     ]
    }
   ],
   "source": [
    "# Selecciono los valores mayores a 5.\n",
    "elementos_mayores_5 = array_tridimensional_3[array_tridimensional_3 >5]\n",
    "print(elementos_mayores_5)"
   ]
  },
  {
   "cell_type": "code",
   "execution_count": 152,
   "id": "2610c17d",
   "metadata": {},
   "outputs": [
    {
     "name": "stdout",
     "output_type": "stream",
     "text": [
      "[[[ 2 11 11]\n",
      "  [ 0  7  3]\n",
      "  [ 1 10  0]\n",
      "  [ 1  0  0]]\n",
      "\n",
      " [[11 13  0]\n",
      "  [ 0  0 11]\n",
      "  [12  0  1]\n",
      "  [ 6  3  8]]]\n"
     ]
    }
   ],
   "source": [
    "# Ahora cambio los datos negativos en 0\n",
    "array_tridimensional_3[array_tridimensional_3<0]=0\n",
    "print(array_tridimensional_3)"
   ]
  },
  {
   "cell_type": "markdown",
   "id": "ab38a3be",
   "metadata": {},
   "source": [
    "#### Ejercicio 10 - Genera un array tridimensional de dimensiones (3, 3, 3) con valores enteros del 1 al 27.\n",
    "\n",
    "- Selecciona el subarray del segundo array que contenga solo las dos primeras columnas.\n",
    "\n",
    "- Selecciona todos los elementos del tercer array que sean mayores que `20`.\n"
   ]
  },
  {
   "cell_type": "code",
   "execution_count": 153,
   "id": "78c979cf",
   "metadata": {},
   "outputs": [
    {
     "name": "stdout",
     "output_type": "stream",
     "text": [
      "[[[24 21 17]\n",
      "  [ 7 17  7]\n",
      "  [16  6 16]]\n",
      "\n",
      " [[22 25 14]\n",
      "  [12 15 17]\n",
      "  [ 3 10  6]]\n",
      "\n",
      " [[14 22 19]\n",
      "  [12 23  5]\n",
      "  [24 23 16]]]\n"
     ]
    }
   ],
   "source": [
    "# Genero el array como me piden de 3 matrizes , 3 filas y 3 columnnas y que sus numeros sean del 1 al 27\n",
    "array_tridimensional_4 = np.random.randint(1,28,(3,3,3))\n",
    "print(array_tridimensional_4)"
   ]
  },
  {
   "cell_type": "code",
   "execution_count": 154,
   "id": "2cbf3d22",
   "metadata": {},
   "outputs": [
    {
     "name": "stdout",
     "output_type": "stream",
     "text": [
      "[[22 25]\n",
      " [12 15]\n",
      " [ 3 10]]\n"
     ]
    }
   ],
   "source": [
    "# Selecciono el segundo array que contenga los 2 primeras columnas.\n",
    "print(array_tridimensional_4[1,:,:2])"
   ]
  },
  {
   "cell_type": "code",
   "execution_count": 167,
   "id": "76135572",
   "metadata": {},
   "outputs": [
    {
     "name": "stdout",
     "output_type": "stream",
     "text": [
      "[22 23 24 23]\n"
     ]
    }
   ],
   "source": [
    "# Selleciono todos los elementos del tercer array que sean mayores que 20.\n",
    "print(array_tridimensional_4[2,array_tridimensional_4[2]>20])"
   ]
  },
  {
   "cell_type": "markdown",
   "id": "f1a00156",
   "metadata": {},
   "source": [
    "#### Ejercicio 11 - Crea un array de 10 números aleatorios y reemplaza los valores máximos y mínimos por 0."
   ]
  },
  {
   "cell_type": "code",
   "execution_count": null,
   "id": "990fa526",
   "metadata": {},
   "outputs": [],
   "source": []
  },
  {
   "cell_type": "markdown",
   "id": "781fafd0",
   "metadata": {},
   "source": [
    "#### Ejercicio 12 - Genera un array de 15 números aleatorios enteros entre 1 y 100 y reordénalo en orden ascendente."
   ]
  },
  {
   "cell_type": "code",
   "execution_count": null,
   "id": "caa4fd47",
   "metadata": {},
   "outputs": [],
   "source": []
  },
  {
   "cell_type": "markdown",
   "id": "45f10c3e",
   "metadata": {},
   "source": [
    "#### Ejercicio 11 - Calcula la suma de los elementos a lo largo de las filas y columnas en una matriz 4x4."
   ]
  },
  {
   "cell_type": "code",
   "execution_count": null,
   "id": "90220788",
   "metadata": {},
   "outputs": [],
   "source": []
  },
  {
   "cell_type": "markdown",
   "id": "69b9751a",
   "metadata": {},
   "source": [
    "#### Ejercicio 12 - Crea una matriz de 5x5 con valores en el borde igual a 1 y en el interior igual a 0."
   ]
  },
  {
   "cell_type": "code",
   "execution_count": null,
   "id": "eca81323",
   "metadata": {},
   "outputs": [],
   "source": []
  },
  {
   "cell_type": "markdown",
   "id": "1ea8068d",
   "metadata": {},
   "source": [
    "#### Ejercicio 13 - Calcula la media y la desviación estándar de un array de 10 números aleatorios."
   ]
  },
  {
   "cell_type": "code",
   "execution_count": null,
   "id": "05dd579d",
   "metadata": {},
   "outputs": [],
   "source": []
  },
  {
   "cell_type": "markdown",
   "id": "6add6669",
   "metadata": {},
   "source": [
    "#### Ejercicio 14 - Genera un array tridimensional de dimensiones (2, 3, 4) con valores enteros del 1 al 24.\n",
    "\n",
    "- Transpón el array para intercambiar los ejes de la forma (2, 3, 4) a (4, 3, 2).\n",
    "\n",
    "- Observa cómo cambian las posiciones de los elementos y sus índices después de la transposición. Explica en una celda de markdown que es lo que ha pasado. \n"
   ]
  },
  {
   "cell_type": "code",
   "execution_count": null,
   "id": "ae98aca5",
   "metadata": {},
   "outputs": [],
   "source": []
  },
  {
   "cell_type": "markdown",
   "id": "1e32b5e6",
   "metadata": {},
   "source": [
    "#### Ejercicio 15 - Genera un array tridimensional de dimensiones (3, 4, 2) con valores enteros del 1 al 24.\n",
    "\n",
    "- Transpón el array para intercambiar el primer y segundo eje, de manera que la nueva forma del array sea (4, 3, 2).\n"
   ]
  },
  {
   "cell_type": "code",
   "execution_count": null,
   "id": "0146fdd6",
   "metadata": {},
   "outputs": [],
   "source": []
  },
  {
   "cell_type": "markdown",
   "id": "fcf92586",
   "metadata": {},
   "source": [
    "#### Ejercicio 16 - Genera un array tridimensional de dimensiones (3, 2, 4) con valores enteros del 1 al 24.\n",
    "\n",
    "- Realiza una rotación completa de los ejes para convertir la forma original (3, 2, 4) en (4, 3, 2).\n"
   ]
  },
  {
   "cell_type": "code",
   "execution_count": null,
   "id": "dd2c7f27",
   "metadata": {},
   "outputs": [],
   "source": []
  },
  {
   "cell_type": "markdown",
   "id": "1795e11f",
   "metadata": {},
   "source": [
    "#### Ejercicio 17 - Manipulación de Arrays en 3D\n",
    "\n",
    "- Crea un array tridimensional con dimensiones (3, 4, 5) cuyos elementos sean números enteros aleatorios entre -10 y 10.\n",
    "\n",
    "- Crea un array vacío con la misma forma y dimensiones que el array creado anteriormente. Luego, reemplaza los valores de la matriz vacía basada en los valores del primer array bajo las siguientes condiciones:\n",
    "\n",
    "   - Si el valor es igual a la mediana, se reemplaza por `\"M\"`.\n",
    "\n",
    "   - Si el valor es mayor que la mediana, se reemplaza por `\"X\"`.\n",
    "\n",
    "   - Si el valor es menor que la mediana, se reemplaza por `\"Y\"`.\n",
    "\n",
    "   - Si el valor es igual al máximo, se reemplaza por `\"MAX\"`.\n",
    "\n",
    "   - Si el valor es igual al mínimo, se reemplaza por `\"MIN\"`.\n"
   ]
  },
  {
   "cell_type": "code",
   "execution_count": null,
   "id": "d309b397",
   "metadata": {},
   "outputs": [],
   "source": []
  },
  {
   "cell_type": "markdown",
   "id": "83794704",
   "metadata": {},
   "source": [
    "#### Ejercicio 18 - Verificación de Filas y Columnas Iguales\n",
    "\n",
    "Crea un array bidimensional de dimensiones 4x4, escribe un código para determinar si alguna fila es exactamente igual a alguna columna.\n",
    "\n",
    "**Reglas:**\n",
    "\n",
    "- No puedes usar funciones predefinidas de NumPy para comparar filas y columnas (`np.array_equal`, etc.).\n",
    "\n",
    "- Debes resolverlo con estructuras básicas de Python (bucles, condicionales, etc.).\n",
    "\n",
    "- Debes revisar si hay al menos una fila que coincida exactamente con alguna columna.\n",
    "\n",
    "**Pistas**:\n",
    "\n",
    "- Puedes recorrer cada fila y cada columna de la matriz usando bucles.\n",
    "\n",
    "- Para comparar una fila con una columna, puedes hacerlo elemento por elemento."
   ]
  },
  {
   "cell_type": "code",
   "execution_count": null,
   "id": "afd51c60",
   "metadata": {},
   "outputs": [],
   "source": []
  }
 ],
 "metadata": {
  "kernelspec": {
   "display_name": "Python 3",
   "language": "python",
   "name": "python3"
  },
  "language_info": {
   "codemirror_mode": {
    "name": "ipython",
    "version": 3
   },
   "file_extension": ".py",
   "mimetype": "text/x-python",
   "name": "python",
   "nbconvert_exporter": "python",
   "pygments_lexer": "ipython3",
   "version": "3.11.4"
  }
 },
 "nbformat": 4,
 "nbformat_minor": 5
}
